{
 "cells": [
  {
   "cell_type": "code",
   "execution_count": null,
   "id": "5ecc8621-85d2-4081-8874-d542831b2359",
   "metadata": {},
   "outputs": [],
   "source": [
    "python main.py\n"
   ]
  },
  {
   "cell_type": "code",
   "execution_count": 8,
   "id": "32aa8884-e84d-4da2-bb11-abb42ce924ca",
   "metadata": {},
   "outputs": [
    {
     "name": "stdin",
     "output_type": "stream",
     "text": [
      "name:  d\n"
     ]
    },
    {
     "name": "stdout",
     "output_type": "stream",
     "text": [
      "Hello d, it's very nice to meet you!\n",
      "Your total bill is: \n",
      "22.8\n",
      "Vancouver looks like a cool place to go!!\n",
      "Montreal looks like a cool place to go!!\n",
      "Calgary looks like a cool place to go!!\n",
      "Toronto looks like a cool place to go!!\n"
     ]
    },
    {
     "data": {
      "text/plain": [
       "0.14"
      ]
     },
     "execution_count": 8,
     "metadata": {},
     "output_type": "execute_result"
    }
   ],
   "source": [
    "# name is a variable. It contains a string\n",
    "name = input(\"name: \")\n",
    "print(\"Hello \" + name + \", it's very nice to meet you!\")\n",
    "\n",
    "# taxRate, subtotal, tax and total are all variables that contain numbers\n",
    "taxRate = 0.14\n",
    "subtotal = 20\n",
    "tax = subtotal * taxRate\n",
    "total = subtotal + tax\n",
    "print(\"Your total bill is: \")\n",
    "print(total)\n",
    "\n",
    "# travelDestinations is a variable containing a list\n",
    "# city is a variable - its value is changing a few times\n",
    "travelDestinations = [\"Vancouver\",\"Montreal\",\"Calgary\",\"Toronto\"]\n",
    "for city in travelDestinations:\n",
    "    print(city + \" looks like a cool place to go!!\")\n",
    "    \n",
    "taxRate"
   ]
  }
 ],
 "metadata": {
  "kernelspec": {
   "display_name": "Python 3",
   "language": "python",
   "name": "python3"
  },
  "language_info": {
   "codemirror_mode": {
    "name": "ipython",
    "version": 3
   },
   "file_extension": ".py",
   "mimetype": "text/x-python",
   "name": "python",
   "nbconvert_exporter": "python",
   "pygments_lexer": "ipython3",
   "version": "3.8.8"
  }
 },
 "nbformat": 4,
 "nbformat_minor": 5
}
